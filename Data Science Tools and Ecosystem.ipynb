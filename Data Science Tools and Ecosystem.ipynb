{
  "metadata": {
    "kernelspec": {
      "name": "python",
      "display_name": "Python (Pyodide)",
      "language": "python"
    },
    "language_info": {
      "name": ""
    }
  },
  "nbformat_minor": 4,
  "nbformat": 4,
  "cells": [
    {
      "cell_type": "markdown",
      "source": "# Data Science Tools and Ecosystems",
      "metadata": {}
    },
    {
      "cell_type": "markdown",
      "source": "in this notebook, i will be put to the test on every thing i have learnt so far on jupyter.",
      "metadata": {}
    },
    {
      "cell_type": "markdown",
      "source": "some of the popular languages that data scientists use are:\n1. python\n2. java\n3. R\n4. c++\n5. julia\n6. JS\n",
      "metadata": {}
    },
    {
      "cell_type": "markdown",
      "source": "some of the commonly used libraries in data science:\n1. pandas\n2. numpy\n3. scipy\n4. matplot\n5. scikit-learn\n6. tensorflow",
      "metadata": {}
    },
    {
      "cell_type": "markdown",
      "source": "|data science tools|\n|------------------|\n|jupyter lab|\n|vscode|\n|git|",
      "metadata": {}
    },
    {
      "cell_type": "code",
      "source": "",
      "metadata": {
        "trusted": true
      },
      "outputs": [],
      "execution_count": null
    }
  ]
}