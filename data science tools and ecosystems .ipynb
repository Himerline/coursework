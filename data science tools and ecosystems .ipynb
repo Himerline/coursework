{
  "metadata": {
    "kernelspec": {
      "name": "python",
      "display_name": "Python (Pyodide)",
      "language": "python"
    },
    "language_info": {
      "codemirror_mode": {
        "name": "python",
        "version": 3
      },
      "file_extension": ".py",
      "mimetype": "text/x-python",
      "name": "python",
      "nbconvert_exporter": "python",
      "pygments_lexer": "ipython3",
      "version": "3.8"
    }
  },
  "nbformat_minor": 4,
  "nbformat": 4,
  "cells": [
    {
      "cell_type": "markdown",
      "source": "# Data Science tools and ecosystem",
      "metadata": {}
    },
    {
      "cell_type": "markdown",
      "source": "in this notebook, data science tools and ecosystems are summarized",
      "metadata": {}
    },
    {
      "cell_type": "markdown",
      "source": "**Objectives**\n* introduce the popular languages used by data scientists\n* introduce the most common libraries used by data scientists\n* introduce some data science tools\n* introduce pythons basic arithmetic evaluation method\n* observe the authors application of the basic operations of a notebook\n* assess the authors knowledge of some basic data science information",
      "metadata": {}
    },
    {
      "cell_type": "markdown",
      "source": "some of the popular languages that data scientists use are:\n1. python\n2. R\n3. julia\n4. c++\n5. java\n6. JS\n",
      "metadata": {}
    },
    {
      "cell_type": "markdown",
      "source": "some of the commonly used libraries used by data scientists are:\n1. pandas\n2. scikit-learn\n3. matplot\n4. keras\n5. tensorflow\n6. seaborn",
      "metadata": {}
    },
    {
      "cell_type": "markdown",
      "source": "Data science tools:\n|tools|\n|-----|\n|watson studio|\n|IBM data refinery|\n|IBS congos business intelligence suite|",
      "metadata": {}
    },
    {
      "cell_type": "markdown",
      "source": "### Below are a few examples of evaluating arithmetic expressions in python",
      "metadata": {}
    },
    {
      "cell_type": "code",
      "source": "#this is a simple arithmetic equation to multiply then add intergers\n(3*4)+5",
      "metadata": {
        "trusted": true
      },
      "outputs": [
        {
          "execution_count": 2,
          "output_type": "execute_result",
          "data": {
            "text/plain": "17"
          },
          "metadata": {}
        }
      ],
      "execution_count": 2
    },
    {
      "cell_type": "code",
      "source": "#this will covert 200 minutes to hours by dividing by 60\n200/60",
      "metadata": {
        "trusted": true
      },
      "outputs": [
        {
          "execution_count": 4,
          "output_type": "execute_result",
          "data": {
            "text/plain": "3.3333333333333335"
          },
          "metadata": {}
        }
      ],
      "execution_count": 4
    },
    {
      "cell_type": "markdown",
      "source": "## Author\nArinola Grace Obasa",
      "metadata": {}
    }
  ]
}